{
 "cells": [
  {
   "cell_type": "code",
   "execution_count": 16,
   "metadata": {},
   "outputs": [
    {
     "name": "stdout",
     "output_type": "stream",
     "text": [
      "The autoreload extension is already loaded. To reload it, use:\n",
      "  %reload_ext autoreload\n"
     ]
    }
   ],
   "source": [
    "import pandas as pd\n",
    "import numpy as np\n",
    "\n",
    "\n",
    "import os # for file system operations\n",
    "import re # for regular expressions\n",
    "from tqdm import tqdm # for progress bar\n",
    "\n",
    "%load_ext autoreload\n",
    "%autoreload 2"
   ]
  },
  {
   "cell_type": "code",
   "execution_count": 17,
   "metadata": {},
   "outputs": [
    {
     "data": {
      "text/plain": [
       "['SB_A01-16-00_2018h01_BE.xlsx',\n",
       " 'SB_A01-16-00_2018h02_BE.xlsx',\n",
       " 'SB_A01-16-00_2019h01_BE.xlsx',\n",
       " 'SB_A01-16-00_2019h02_BE.xlsx',\n",
       " 'SB_A01-16-00_2020h01_BE.xlsx',\n",
       " 'SB_A01-16-00_2020h02_BE.xlsx',\n",
       " 'SB_A01-16-00_2021h01_BE.xlsx',\n",
       " 'SB_A01-16-00_2021h02_BE.xlsx',\n",
       " 'SB_A01-16-00_2022h01_BE.xlsx',\n",
       " 'SB_A01-16-00_2023h01_BE.xlsx',\n",
       " 'SB_A01-16-00_2023h02_BE.xlsx']"
      ]
     },
     "execution_count": 17,
     "metadata": {},
     "output_type": "execute_result"
    }
   ],
   "source": [
    "list_xlsx_files = os.listdir('../data/input/population')\n",
    "list_xlsx_files"
   ]
  },
  {
   "cell_type": "code",
   "execution_count": 18,
   "metadata": {},
   "outputs": [],
   "source": [
    "def transform_number_under_10(x):\n",
    "    if x < 10:\n",
    "        x = '0' + str(x)\n",
    "        return x\n",
    "    else:\n",
    "        x = str(x)\n",
    "        return x"
   ]
  },
  {
   "cell_type": "code",
   "execution_count": 19,
   "metadata": {},
   "outputs": [
    {
     "data": {
      "text/html": [
       "<div>\n",
       "<style scoped>\n",
       "    .dataframe tbody tr th:only-of-type {\n",
       "        vertical-align: middle;\n",
       "    }\n",
       "\n",
       "    .dataframe tbody tr th {\n",
       "        vertical-align: top;\n",
       "    }\n",
       "\n",
       "    .dataframe thead th {\n",
       "        text-align: right;\n",
       "    }\n",
       "</style>\n",
       "<table border=\"1\" class=\"dataframe\">\n",
       "  <thead>\n",
       "    <tr style=\"text-align: right;\">\n",
       "      <th></th>\n",
       "      <th>0</th>\n",
       "      <th>1</th>\n",
       "      <th>2</th>\n",
       "      <th>3</th>\n",
       "      <th>4</th>\n",
       "      <th>5</th>\n",
       "      <th>6</th>\n",
       "      <th>7</th>\n",
       "      <th>8</th>\n",
       "      <th>9</th>\n",
       "      <th>10</th>\n",
       "      <th>11</th>\n",
       "      <th>12</th>\n",
       "      <th>13</th>\n",
       "      <th>14</th>\n",
       "    </tr>\n",
       "  </thead>\n",
       "  <tbody>\n",
       "  </tbody>\n",
       "</table>\n",
       "</div>"
      ],
      "text/plain": [
       "Empty DataFrame\n",
       "Columns: [0, 1, 2, 3, 4, 5, 6, 7, 8, 9, 10, 11, 12, 13, 14]\n",
       "Index: []"
      ]
     },
     "metadata": {},
     "output_type": "display_data"
    }
   ],
   "source": [
    "column_names = [i for i in range(0, 15)]\n",
    "\n",
    "population_df = pd.DataFrame(columns=column_names)\n",
    "display(population_df)"
   ]
  },
  {
   "cell_type": "code",
   "execution_count": 20,
   "metadata": {},
   "outputs": [
    {
     "name": "stderr",
     "output_type": "stream",
     "text": [
      "  0%|                                                                                           | 0/11 [00:00<?, ?it/s]C:\\Users\\Domen\\AppData\\Local\\Temp\\ipykernel_25960\\3045370019.py:26: FutureWarning: The behavior of DataFrame concatenation with empty or all-NA entries is deprecated. In a future version, this will no longer exclude empty or all-NA columns when determining the result dtypes. To retain the old behavior, exclude the relevant entries before the concat operation.\n",
      "  population_df = pd.concat([population_df, pop_data], ignore_index=True , axis=0)\n",
      "  9%|███████▌                                                                           | 1/11 [00:00<00:01,  5.51it/s]"
     ]
    },
    {
     "name": "stdout",
     "output_type": "stream",
     "text": [
      "SB_A01-16-00_2018h01_BE.xlsx\n"
     ]
    },
    {
     "name": "stderr",
     "output_type": "stream",
     "text": [
      " 18%|███████████████                                                                    | 2/11 [00:00<00:01,  5.25it/s]"
     ]
    },
    {
     "name": "stdout",
     "output_type": "stream",
     "text": [
      "SB_A01-16-00_2018h02_BE.xlsx\n"
     ]
    },
    {
     "name": "stderr",
     "output_type": "stream",
     "text": [
      " 27%|██████████████████████▋                                                            | 3/11 [00:00<00:01,  5.29it/s]"
     ]
    },
    {
     "name": "stdout",
     "output_type": "stream",
     "text": [
      "SB_A01-16-00_2019h01_BE.xlsx\n",
      "SB_A01-16-00_2019h02_BE.xlsx\n"
     ]
    },
    {
     "name": "stderr",
     "output_type": "stream",
     "text": [
      " 45%|█████████████████████████████████████▋                                             | 5/11 [00:01<00:01,  4.72it/s]"
     ]
    },
    {
     "name": "stdout",
     "output_type": "stream",
     "text": [
      "SB_A01-16-00_2020h01_BE.xlsx\n"
     ]
    },
    {
     "name": "stderr",
     "output_type": "stream",
     "text": [
      " 55%|█████████████████████████████████████████████▎                                     | 6/11 [00:01<00:01,  4.70it/s]"
     ]
    },
    {
     "name": "stdout",
     "output_type": "stream",
     "text": [
      "SB_A01-16-00_2020h02_BE.xlsx\n"
     ]
    },
    {
     "name": "stderr",
     "output_type": "stream",
     "text": [
      " 64%|████████████████████████████████████████████████████▊                              | 7/11 [00:01<00:00,  4.73it/s]"
     ]
    },
    {
     "name": "stdout",
     "output_type": "stream",
     "text": [
      "SB_A01-16-00_2021h01_BE.xlsx\n"
     ]
    },
    {
     "name": "stderr",
     "output_type": "stream",
     "text": [
      " 73%|████████████████████████████████████████████████████████████▎                      | 8/11 [00:01<00:00,  4.74it/s]"
     ]
    },
    {
     "name": "stdout",
     "output_type": "stream",
     "text": [
      "SB_A01-16-00_2021h02_BE.xlsx\n"
     ]
    },
    {
     "name": "stderr",
     "output_type": "stream",
     "text": [
      " 82%|███████████████████████████████████████████████████████████████████▉               | 9/11 [00:01<00:00,  4.74it/s]"
     ]
    },
    {
     "name": "stdout",
     "output_type": "stream",
     "text": [
      "SB_A01-16-00_2022h01_BE.xlsx\n"
     ]
    },
    {
     "name": "stderr",
     "output_type": "stream",
     "text": [
      " 91%|██████████████████████████████████████████████████████████████████████████▌       | 10/11 [00:02<00:00,  4.71it/s]"
     ]
    },
    {
     "name": "stdout",
     "output_type": "stream",
     "text": [
      "SB_A01-16-00_2023h01_BE.xlsx\n"
     ]
    },
    {
     "name": "stderr",
     "output_type": "stream",
     "text": [
      "100%|██████████████████████████████████████████████████████████████████████████████████| 11/11 [00:02<00:00,  4.68it/s]"
     ]
    },
    {
     "name": "stdout",
     "output_type": "stream",
     "text": [
      "SB_A01-16-00_2023h02_BE.xlsx\n"
     ]
    },
    {
     "name": "stderr",
     "output_type": "stream",
     "text": [
      "100%|██████████████████████████████████████████████████████████████████████████████████| 11/11 [00:02<00:00,  4.76it/s]\n"
     ]
    },
    {
     "data": {
      "text/html": [
       "<div>\n",
       "<style scoped>\n",
       "    .dataframe tbody tr th:only-of-type {\n",
       "        vertical-align: middle;\n",
       "    }\n",
       "\n",
       "    .dataframe tbody tr th {\n",
       "        vertical-align: top;\n",
       "    }\n",
       "\n",
       "    .dataframe thead th {\n",
       "        text-align: right;\n",
       "    }\n",
       "</style>\n",
       "<table border=\"1\" class=\"dataframe\">\n",
       "  <thead>\n",
       "    <tr style=\"text-align: right;\">\n",
       "      <th></th>\n",
       "      <th>key</th>\n",
       "      <th>year</th>\n",
       "      <th>half_year</th>\n",
       "      <th>lor</th>\n",
       "      <th>total_population</th>\n",
       "      <th>-6</th>\n",
       "      <th>6-15</th>\n",
       "      <th>15-18</th>\n",
       "      <th>18-27</th>\n",
       "      <th>27-45</th>\n",
       "      <th>45-55</th>\n",
       "      <th>55-65</th>\n",
       "      <th>65+</th>\n",
       "    </tr>\n",
       "  </thead>\n",
       "  <tbody>\n",
       "    <tr>\n",
       "      <th>0</th>\n",
       "      <td>01011101-2018-1</td>\n",
       "      <td>2018</td>\n",
       "      <td>1</td>\n",
       "      <td>01011101</td>\n",
       "      <td>3269</td>\n",
       "      <td>153</td>\n",
       "      <td>127</td>\n",
       "      <td>32</td>\n",
       "      <td>502</td>\n",
       "      <td>999</td>\n",
       "      <td>348</td>\n",
       "      <td>389</td>\n",
       "      <td>719</td>\n",
       "    </tr>\n",
       "    <tr>\n",
       "      <th>1</th>\n",
       "      <td>01011102-2018-1</td>\n",
       "      <td>2018</td>\n",
       "      <td>1</td>\n",
       "      <td>01011102</td>\n",
       "      <td>185</td>\n",
       "      <td>4</td>\n",
       "      <td>9</td>\n",
       "      <td>3</td>\n",
       "      <td>15</td>\n",
       "      <td>51</td>\n",
       "      <td>36</td>\n",
       "      <td>40</td>\n",
       "      <td>27</td>\n",
       "    </tr>\n",
       "    <tr>\n",
       "      <th>2</th>\n",
       "      <td>01011103-2018-1</td>\n",
       "      <td>2018</td>\n",
       "      <td>1</td>\n",
       "      <td>01011103</td>\n",
       "      <td>5073</td>\n",
       "      <td>254</td>\n",
       "      <td>329</td>\n",
       "      <td>122</td>\n",
       "      <td>578</td>\n",
       "      <td>1430</td>\n",
       "      <td>682</td>\n",
       "      <td>770</td>\n",
       "      <td>908</td>\n",
       "    </tr>\n",
       "    <tr>\n",
       "      <th>3</th>\n",
       "      <td>01011104-2018-1</td>\n",
       "      <td>2018</td>\n",
       "      <td>1</td>\n",
       "      <td>01011104</td>\n",
       "      <td>4781</td>\n",
       "      <td>277</td>\n",
       "      <td>396</td>\n",
       "      <td>135</td>\n",
       "      <td>912</td>\n",
       "      <td>1661</td>\n",
       "      <td>629</td>\n",
       "      <td>426</td>\n",
       "      <td>345</td>\n",
       "    </tr>\n",
       "    <tr>\n",
       "      <th>4</th>\n",
       "      <td>01011105-2018-1</td>\n",
       "      <td>2018</td>\n",
       "      <td>1</td>\n",
       "      <td>01011105</td>\n",
       "      <td>1322</td>\n",
       "      <td>83</td>\n",
       "      <td>64</td>\n",
       "      <td>13</td>\n",
       "      <td>103</td>\n",
       "      <td>455</td>\n",
       "      <td>199</td>\n",
       "      <td>185</td>\n",
       "      <td>220</td>\n",
       "    </tr>\n",
       "    <tr>\n",
       "      <th>...</th>\n",
       "      <td>...</td>\n",
       "      <td>...</td>\n",
       "      <td>...</td>\n",
       "      <td>...</td>\n",
       "      <td>...</td>\n",
       "      <td>...</td>\n",
       "      <td>...</td>\n",
       "      <td>...</td>\n",
       "      <td>...</td>\n",
       "      <td>...</td>\n",
       "      <td>...</td>\n",
       "      <td>...</td>\n",
       "      <td>...</td>\n",
       "    </tr>\n",
       "    <tr>\n",
       "      <th>5391</th>\n",
       "      <td>12601032-2023-2</td>\n",
       "      <td>2023</td>\n",
       "      <td>2</td>\n",
       "      <td>12601032</td>\n",
       "      <td>6115</td>\n",
       "      <td>493</td>\n",
       "      <td>814</td>\n",
       "      <td>266</td>\n",
       "      <td>698</td>\n",
       "      <td>1477</td>\n",
       "      <td>692</td>\n",
       "      <td>653</td>\n",
       "      <td>1022</td>\n",
       "    </tr>\n",
       "    <tr>\n",
       "      <th>5392</th>\n",
       "      <td>12601133-2023-2</td>\n",
       "      <td>2023</td>\n",
       "      <td>2</td>\n",
       "      <td>12601133</td>\n",
       "      <td>11441</td>\n",
       "      <td>742</td>\n",
       "      <td>1405</td>\n",
       "      <td>472</td>\n",
       "      <td>1283</td>\n",
       "      <td>2762</td>\n",
       "      <td>1389</td>\n",
       "      <td>1272</td>\n",
       "      <td>2116</td>\n",
       "    </tr>\n",
       "    <tr>\n",
       "      <th>5393</th>\n",
       "      <td>12601134-2023-2</td>\n",
       "      <td>2023</td>\n",
       "      <td>2</td>\n",
       "      <td>12601134</td>\n",
       "      <td>15947</td>\n",
       "      <td>1174</td>\n",
       "      <td>1854</td>\n",
       "      <td>577</td>\n",
       "      <td>1792</td>\n",
       "      <td>3601</td>\n",
       "      <td>1771</td>\n",
       "      <td>1848</td>\n",
       "      <td>3330</td>\n",
       "    </tr>\n",
       "    <tr>\n",
       "      <th>5394</th>\n",
       "      <td>12601235-2023-2</td>\n",
       "      <td>2023</td>\n",
       "      <td>2</td>\n",
       "      <td>12601235</td>\n",
       "      <td>10625</td>\n",
       "      <td>758</td>\n",
       "      <td>1412</td>\n",
       "      <td>468</td>\n",
       "      <td>1300</td>\n",
       "      <td>2503</td>\n",
       "      <td>1240</td>\n",
       "      <td>1210</td>\n",
       "      <td>1734</td>\n",
       "    </tr>\n",
       "    <tr>\n",
       "      <th>5395</th>\n",
       "      <td>12601236-2023-2</td>\n",
       "      <td>2023</td>\n",
       "      <td>2</td>\n",
       "      <td>12601236</td>\n",
       "      <td>3154</td>\n",
       "      <td>128</td>\n",
       "      <td>243</td>\n",
       "      <td>100</td>\n",
       "      <td>335</td>\n",
       "      <td>650</td>\n",
       "      <td>346</td>\n",
       "      <td>475</td>\n",
       "      <td>877</td>\n",
       "    </tr>\n",
       "  </tbody>\n",
       "</table>\n",
       "<p>5396 rows × 13 columns</p>\n",
       "</div>"
      ],
      "text/plain": [
       "                  key  year  half_year       lor  total_population    -6  \\\n",
       "0     01011101-2018-1  2018          1  01011101              3269   153   \n",
       "1     01011102-2018-1  2018          1  01011102               185     4   \n",
       "2     01011103-2018-1  2018          1  01011103              5073   254   \n",
       "3     01011104-2018-1  2018          1  01011104              4781   277   \n",
       "4     01011105-2018-1  2018          1  01011105              1322    83   \n",
       "...               ...   ...        ...       ...               ...   ...   \n",
       "5391  12601032-2023-2  2023          2  12601032              6115   493   \n",
       "5392  12601133-2023-2  2023          2  12601133             11441   742   \n",
       "5393  12601134-2023-2  2023          2  12601134             15947  1174   \n",
       "5394  12601235-2023-2  2023          2  12601235             10625   758   \n",
       "5395  12601236-2023-2  2023          2  12601236              3154   128   \n",
       "\n",
       "      6-15  15-18  18-27  27-45  45-55  55-65   65+  \n",
       "0      127     32    502    999    348    389   719  \n",
       "1        9      3     15     51     36     40    27  \n",
       "2      329    122    578   1430    682    770   908  \n",
       "3      396    135    912   1661    629    426   345  \n",
       "4       64     13    103    455    199    185   220  \n",
       "...    ...    ...    ...    ...    ...    ...   ...  \n",
       "5391   814    266    698   1477    692    653  1022  \n",
       "5392  1405    472   1283   2762   1389   1272  2116  \n",
       "5393  1854    577   1792   3601   1771   1848  3330  \n",
       "5394  1412    468   1300   2503   1240   1210  1734  \n",
       "5395   243    100    335    650    346    475   877  \n",
       "\n",
       "[5396 rows x 13 columns]"
      ]
     },
     "metadata": {},
     "output_type": "display_data"
    }
   ],
   "source": [
    "# Loop through all the files in the directory\n",
    "for filename in tqdm(list_xlsx_files): \n",
    "\n",
    "    print(f'{filename}')\n",
    "    \n",
    "    # extract year and half_year from filename\n",
    "    temp = re.search(r'(\\d{4})h(\\d{2})', filename)\n",
    "    year, half_year = temp.groups()\n",
    "\n",
    "    # create file path for file import \n",
    "    file_path = f'../data/input/population/{filename}'\n",
    "\n",
    "    # import data from 'T2' sheet - checked in Excel \n",
    "    raw_data = pd.read_excel(file_path, 'T2', header = None)\n",
    "\n",
    "    # checked with excel the dataset before -> after dropping rows with Nan values the needed information are extracted \n",
    "    final_rows = raw_data.dropna().index.tolist()\n",
    "    pop_data = raw_data.iloc[final_rows]\n",
    "        \n",
    "    # Add 2 columns year and half_year\n",
    "    pop_data.insert(0, 'year', year)\n",
    "    pop_data.insert(1, 'half_year', half_year)\n",
    "    \n",
    "    # counter = counter + len(pop_data)\n",
    "        \n",
    "    population_df = pd.concat([population_df, pop_data], ignore_index=True , axis=0)\n",
    "\n",
    "    # Convert columns to integer \n",
    "    columns_to_transform = population_df.columns[0:17]\n",
    "    population_df[columns_to_transform] = population_df[columns_to_transform].astype(int)\n",
    "    # print(population_df.dtypes)\n",
    "    \n",
    "    # Transform format for LOR values - (1 -> 01, 2 -> 02 ...)\n",
    "    for col in [0,1,2,3]:\n",
    "        population_df[col] = population_df[col].apply(lambda x: transform_number_under_10(x))\n",
    "    \n",
    "\n",
    "\n",
    "    # drop woman and asyl data columns \n",
    "    # transform 0-3 to LOR Code\n",
    "    # Rearrange table columns    \n",
    "    population_df['lor'] = population_df[0] + population_df[1] + population_df[2] + population_df[3]\n",
    "    population_df['key'] = population_df['lor'] + '-' + population_df['year'].astype(str) + '-' +  population_df['half_year'].astype(str)\n",
    "    \n",
    "# Drop unnecessary columns \n",
    "population_df = population_df.drop(columns = [0, 1, 2, 3, 13, 14])\n",
    "\n",
    "# Reorder and rename columns \n",
    "population_df = population_df.reindex(['key', 'year', 'half_year', 'lor', 4, 5, 6, 7, 8, 9, 10, 11, 12], axis = 1)\n",
    "population_df.columns = ['key', 'year', 'half_year', 'lor', 'total_population', '-6', '6-15', '15-18', '18-27', '27-45', '45-55', '55-65', '65+']\n",
    "\n",
    "\n",
    "# # Save the final DataFrame to a pickle file \n",
    "# population_df.to_pickle('../data/output/temp_analysis/total_population_dataset.pkl')\n",
    "# # population_df.to_excel('../data/output/total_population_dataset.xlsx', index = False)\n",
    "# # population_df.to_csv('../data/output/total_population_dataset.csv', index = False)\n",
    "\n",
    "display(population_df)"
   ]
  }
 ],
 "metadata": {
  "kernelspec": {
   "display_name": "Python 3 (ipykernel)",
   "language": "python",
   "name": "python3"
  },
  "language_info": {
   "codemirror_mode": {
    "name": "ipython",
    "version": 3
   },
   "file_extension": ".py",
   "mimetype": "text/x-python",
   "name": "python",
   "nbconvert_exporter": "python",
   "pygments_lexer": "ipython3",
   "version": "3.10.13"
  }
 },
 "nbformat": 4,
 "nbformat_minor": 2
}
